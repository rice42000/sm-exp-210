{
  "nbformat": 4,
  "nbformat_minor": 0,
  "metadata": {
    "colab": {
      "provenance": []
    },
    "kernelspec": {
      "name": "python3",
      "display_name": "Python 3"
    },
    "language_info": {
      "name": "python"
    }
  },
  "cells": [
    {
      "cell_type": "markdown",
      "source": [
        "# **Multiple Regression**"
      ],
      "metadata": {
        "id": "Yq1dfaIbUtFx"
      }
    },
    {
      "cell_type": "code",
      "execution_count": null,
      "metadata": {
        "colab": {
          "base_uri": "https://localhost:8080/",
          "height": 1000
        },
        "id": "0XO38SwFUOLK",
        "outputId": "041cd83b-7d6b-4829-fede-6e65b2a28d11"
      },
      "outputs": [
        {
          "output_type": "display_data",
          "data": {
            "text/plain": [
              "<IPython.core.display.HTML object>"
            ],
            "text/html": [
              "\n",
              "     <input type=\"file\" id=\"files-8552fef4-7d86-4d6f-b94c-56bad275a44f\" name=\"files[]\" multiple disabled\n",
              "        style=\"border:none\" />\n",
              "     <output id=\"result-8552fef4-7d86-4d6f-b94c-56bad275a44f\">\n",
              "      Upload widget is only available when the cell has been executed in the\n",
              "      current browser session. Please rerun this cell to enable.\n",
              "      </output>\n",
              "      <script>// Copyright 2017 Google LLC\n",
              "//\n",
              "// Licensed under the Apache License, Version 2.0 (the \"License\");\n",
              "// you may not use this file except in compliance with the License.\n",
              "// You may obtain a copy of the License at\n",
              "//\n",
              "//      http://www.apache.org/licenses/LICENSE-2.0\n",
              "//\n",
              "// Unless required by applicable law or agreed to in writing, software\n",
              "// distributed under the License is distributed on an \"AS IS\" BASIS,\n",
              "// WITHOUT WARRANTIES OR CONDITIONS OF ANY KIND, either express or implied.\n",
              "// See the License for the specific language governing permissions and\n",
              "// limitations under the License.\n",
              "\n",
              "/**\n",
              " * @fileoverview Helpers for google.colab Python module.\n",
              " */\n",
              "(function(scope) {\n",
              "function span(text, styleAttributes = {}) {\n",
              "  const element = document.createElement('span');\n",
              "  element.textContent = text;\n",
              "  for (const key of Object.keys(styleAttributes)) {\n",
              "    element.style[key] = styleAttributes[key];\n",
              "  }\n",
              "  return element;\n",
              "}\n",
              "\n",
              "// Max number of bytes which will be uploaded at a time.\n",
              "const MAX_PAYLOAD_SIZE = 100 * 1024;\n",
              "\n",
              "function _uploadFiles(inputId, outputId) {\n",
              "  const steps = uploadFilesStep(inputId, outputId);\n",
              "  const outputElement = document.getElementById(outputId);\n",
              "  // Cache steps on the outputElement to make it available for the next call\n",
              "  // to uploadFilesContinue from Python.\n",
              "  outputElement.steps = steps;\n",
              "\n",
              "  return _uploadFilesContinue(outputId);\n",
              "}\n",
              "\n",
              "// This is roughly an async generator (not supported in the browser yet),\n",
              "// where there are multiple asynchronous steps and the Python side is going\n",
              "// to poll for completion of each step.\n",
              "// This uses a Promise to block the python side on completion of each step,\n",
              "// then passes the result of the previous step as the input to the next step.\n",
              "function _uploadFilesContinue(outputId) {\n",
              "  const outputElement = document.getElementById(outputId);\n",
              "  const steps = outputElement.steps;\n",
              "\n",
              "  const next = steps.next(outputElement.lastPromiseValue);\n",
              "  return Promise.resolve(next.value.promise).then((value) => {\n",
              "    // Cache the last promise value to make it available to the next\n",
              "    // step of the generator.\n",
              "    outputElement.lastPromiseValue = value;\n",
              "    return next.value.response;\n",
              "  });\n",
              "}\n",
              "\n",
              "/**\n",
              " * Generator function which is called between each async step of the upload\n",
              " * process.\n",
              " * @param {string} inputId Element ID of the input file picker element.\n",
              " * @param {string} outputId Element ID of the output display.\n",
              " * @return {!Iterable<!Object>} Iterable of next steps.\n",
              " */\n",
              "function* uploadFilesStep(inputId, outputId) {\n",
              "  const inputElement = document.getElementById(inputId);\n",
              "  inputElement.disabled = false;\n",
              "\n",
              "  const outputElement = document.getElementById(outputId);\n",
              "  outputElement.innerHTML = '';\n",
              "\n",
              "  const pickedPromise = new Promise((resolve) => {\n",
              "    inputElement.addEventListener('change', (e) => {\n",
              "      resolve(e.target.files);\n",
              "    });\n",
              "  });\n",
              "\n",
              "  const cancel = document.createElement('button');\n",
              "  inputElement.parentElement.appendChild(cancel);\n",
              "  cancel.textContent = 'Cancel upload';\n",
              "  const cancelPromise = new Promise((resolve) => {\n",
              "    cancel.onclick = () => {\n",
              "      resolve(null);\n",
              "    };\n",
              "  });\n",
              "\n",
              "  // Wait for the user to pick the files.\n",
              "  const files = yield {\n",
              "    promise: Promise.race([pickedPromise, cancelPromise]),\n",
              "    response: {\n",
              "      action: 'starting',\n",
              "    }\n",
              "  };\n",
              "\n",
              "  cancel.remove();\n",
              "\n",
              "  // Disable the input element since further picks are not allowed.\n",
              "  inputElement.disabled = true;\n",
              "\n",
              "  if (!files) {\n",
              "    return {\n",
              "      response: {\n",
              "        action: 'complete',\n",
              "      }\n",
              "    };\n",
              "  }\n",
              "\n",
              "  for (const file of files) {\n",
              "    const li = document.createElement('li');\n",
              "    li.append(span(file.name, {fontWeight: 'bold'}));\n",
              "    li.append(span(\n",
              "        `(${file.type || 'n/a'}) - ${file.size} bytes, ` +\n",
              "        `last modified: ${\n",
              "            file.lastModifiedDate ? file.lastModifiedDate.toLocaleDateString() :\n",
              "                                    'n/a'} - `));\n",
              "    const percent = span('0% done');\n",
              "    li.appendChild(percent);\n",
              "\n",
              "    outputElement.appendChild(li);\n",
              "\n",
              "    const fileDataPromise = new Promise((resolve) => {\n",
              "      const reader = new FileReader();\n",
              "      reader.onload = (e) => {\n",
              "        resolve(e.target.result);\n",
              "      };\n",
              "      reader.readAsArrayBuffer(file);\n",
              "    });\n",
              "    // Wait for the data to be ready.\n",
              "    let fileData = yield {\n",
              "      promise: fileDataPromise,\n",
              "      response: {\n",
              "        action: 'continue',\n",
              "      }\n",
              "    };\n",
              "\n",
              "    // Use a chunked sending to avoid message size limits. See b/62115660.\n",
              "    let position = 0;\n",
              "    do {\n",
              "      const length = Math.min(fileData.byteLength - position, MAX_PAYLOAD_SIZE);\n",
              "      const chunk = new Uint8Array(fileData, position, length);\n",
              "      position += length;\n",
              "\n",
              "      const base64 = btoa(String.fromCharCode.apply(null, chunk));\n",
              "      yield {\n",
              "        response: {\n",
              "          action: 'append',\n",
              "          file: file.name,\n",
              "          data: base64,\n",
              "        },\n",
              "      };\n",
              "\n",
              "      let percentDone = fileData.byteLength === 0 ?\n",
              "          100 :\n",
              "          Math.round((position / fileData.byteLength) * 100);\n",
              "      percent.textContent = `${percentDone}% done`;\n",
              "\n",
              "    } while (position < fileData.byteLength);\n",
              "  }\n",
              "\n",
              "  // All done.\n",
              "  yield {\n",
              "    response: {\n",
              "      action: 'complete',\n",
              "    }\n",
              "  };\n",
              "}\n",
              "\n",
              "scope.google = scope.google || {};\n",
              "scope.google.colab = scope.google.colab || {};\n",
              "scope.google.colab._files = {\n",
              "  _uploadFiles,\n",
              "  _uploadFilesContinue,\n",
              "};\n",
              "})(self);\n",
              "</script> "
            ]
          },
          "metadata": {}
        },
        {
          "output_type": "stream",
          "name": "stdout",
          "text": [
            "Saving tested.csv to tested (1).csv\n"
          ]
        },
        {
          "output_type": "execute_result",
          "data": {
            "text/plain": [
              "{'tested.csv': b'PassengerId,Survived,Pclass,Name,Sex,Age,SibSp,Parch,Ticket,Fare,Cabin,Embarked\\r\\n892,0,3,\"Kelly, Mr. James\",male,34.5,0,0,330911,7.8292,,Q\\r\\n893,1,3,\"Wilkes, Mrs. James (Ellen Needs)\",female,47,1,0,363272,7,,S\\r\\n894,0,2,\"Myles, Mr. Thomas Francis\",male,62,0,0,240276,9.6875,,Q\\r\\n895,0,3,\"Wirz, Mr. Albert\",male,27,0,0,315154,8.6625,,S\\r\\n896,1,3,\"Hirvonen, Mrs. Alexander (Helga E Lindqvist)\",female,22,1,1,3101298,12.2875,,S\\r\\n897,0,3,\"Svensson, Mr. Johan Cervin\",male,14,0,0,7538,9.225,,S\\r\\n898,1,3,\"Connolly, Miss. Kate\",female,30,0,0,330972,7.6292,,Q\\r\\n899,0,2,\"Caldwell, Mr. Albert Francis\",male,26,1,1,248738,29,,S\\r\\n900,1,3,\"Abrahim, Mrs. Joseph (Sophie Halaut Easu)\",female,18,0,0,2657,7.2292,,C\\r\\n901,0,3,\"Davies, Mr. John Samuel\",male,21,2,0,A/4 48871,24.15,,S\\r\\n902,0,3,\"Ilieff, Mr. Ylio\",male,,0,0,349220,7.8958,,S\\r\\n903,0,1,\"Jones, Mr. Charles Cresson\",male,46,0,0,694,26,,S\\r\\n904,1,1,\"Snyder, Mrs. John Pillsbury (Nelle Stevenson)\",female,23,1,0,21228,82.2667,B45,S\\r\\n905,0,2,\"Howard, Mr. Benjamin\",male,63,1,0,24065,26,,S\\r\\n906,1,1,\"Chaffee, Mrs. Herbert Fuller (Carrie Constance Toogood)\",female,47,1,0,W.E.P. 5734,61.175,E31,S\\r\\n907,1,2,\"del Carlo, Mrs. Sebastiano (Argenia Genovesi)\",female,24,1,0,SC/PARIS 2167,27.7208,,C\\r\\n908,0,2,\"Keane, Mr. Daniel\",male,35,0,0,233734,12.35,,Q\\r\\n909,0,3,\"Assaf, Mr. Gerios\",male,21,0,0,2692,7.225,,C\\r\\n910,1,3,\"Ilmakangas, Miss. Ida Livija\",female,27,1,0,STON/O2. 3101270,7.925,,S\\r\\n911,1,3,\"Assaf Khalil, Mrs. Mariana (Miriam\"\")\"\"\",female,45,0,0,2696,7.225,,C\\r\\n912,0,1,\"Rothschild, Mr. Martin\",male,55,1,0,PC 17603,59.4,,C\\r\\n913,0,3,\"Olsen, Master. Artur Karl\",male,9,0,1,C 17368,3.1708,,S\\r\\n914,1,1,\"Flegenheim, Mrs. Alfred (Antoinette)\",female,,0,0,PC 17598,31.6833,,S\\r\\n915,0,1,\"Williams, Mr. Richard Norris II\",male,21,0,1,PC 17597,61.3792,,C\\r\\n916,1,1,\"Ryerson, Mrs. Arthur Larned (Emily Maria Borie)\",female,48,1,3,PC 17608,262.375,B57 B59 B63 B66,C\\r\\n917,0,3,\"Robins, Mr. Alexander A\",male,50,1,0,A/5. 3337,14.5,,S\\r\\n918,1,1,\"Ostby, Miss. Helene Ragnhild\",female,22,0,1,113509,61.9792,B36,C\\r\\n919,0,3,\"Daher, Mr. Shedid\",male,22.5,0,0,2698,7.225,,C\\r\\n920,0,1,\"Brady, Mr. John Bertram\",male,41,0,0,113054,30.5,A21,S\\r\\n921,0,3,\"Samaan, Mr. Elias\",male,,2,0,2662,21.6792,,C\\r\\n922,0,2,\"Louch, Mr. Charles Alexander\",male,50,1,0,SC/AH 3085,26,,S\\r\\n923,0,2,\"Jefferys, Mr. Clifford Thomas\",male,24,2,0,C.A. 31029,31.5,,S\\r\\n924,1,3,\"Dean, Mrs. Bertram (Eva Georgetta Light)\",female,33,1,2,C.A. 2315,20.575,,S\\r\\n925,1,3,\"Johnston, Mrs. Andrew G (Elizabeth Lily\"\" Watson)\"\"\",female,,1,2,W./C. 6607,23.45,,S\\r\\n926,0,1,\"Mock, Mr. Philipp Edmund\",male,30,1,0,13236,57.75,C78,C\\r\\n927,0,3,\"Katavelas, Mr. Vassilios (Catavelas Vassilios\"\")\"\"\",male,18.5,0,0,2682,7.2292,,C\\r\\n928,1,3,\"Roth, Miss. Sarah A\",female,,0,0,342712,8.05,,S\\r\\n929,1,3,\"Cacic, Miss. Manda\",female,21,0,0,315087,8.6625,,S\\r\\n930,0,3,\"Sap, Mr. Julius\",male,25,0,0,345768,9.5,,S\\r\\n931,0,3,\"Hee, Mr. Ling\",male,,0,0,1601,56.4958,,S\\r\\n932,0,3,\"Karun, Mr. Franz\",male,39,0,1,349256,13.4167,,C\\r\\n933,0,1,\"Franklin, Mr. Thomas Parham\",male,,0,0,113778,26.55,D34,S\\r\\n934,0,3,\"Goldsmith, Mr. Nathan\",male,41,0,0,SOTON/O.Q. 3101263,7.85,,S\\r\\n935,1,2,\"Corbett, Mrs. Walter H (Irene Colvin)\",female,30,0,0,237249,13,,S\\r\\n936,1,1,\"Kimball, Mrs. Edwin Nelson Jr (Gertrude Parsons)\",female,45,1,0,11753,52.5542,D19,S\\r\\n937,0,3,\"Peltomaki, Mr. Nikolai Johannes\",male,25,0,0,STON/O 2. 3101291,7.925,,S\\r\\n938,0,1,\"Chevre, Mr. Paul Romaine\",male,45,0,0,PC 17594,29.7,A9,C\\r\\n939,0,3,\"Shaughnessy, Mr. Patrick\",male,,0,0,370374,7.75,,Q\\r\\n940,1,1,\"Bucknell, Mrs. William Robert (Emma Eliza Ward)\",female,60,0,0,11813,76.2917,D15,C\\r\\n941,1,3,\"Coutts, Mrs. William (Winnie Minnie\"\" Treanor)\"\"\",female,36,0,2,C.A. 37671,15.9,,S\\r\\n942,0,1,\"Smith, Mr. Lucien Philip\",male,24,1,0,13695,60,C31,S\\r\\n943,0,2,\"Pulbaum, Mr. Franz\",male,27,0,0,SC/PARIS 2168,15.0333,,C\\r\\n944,1,2,\"Hocking, Miss. Ellen Nellie\"\"\"\"\",female,20,2,1,29105,23,,S\\r\\n945,1,1,\"Fortune, Miss. Ethel Flora\",female,28,3,2,19950,263,C23 C25 C27,S\\r\\n946,0,2,\"Mangiavacchi, Mr. Serafino Emilio\",male,,0,0,SC/A.3 2861,15.5792,,C\\r\\n947,0,3,\"Rice, Master. Albert\",male,10,4,1,382652,29.125,,Q\\r\\n948,0,3,\"Cor, Mr. Bartol\",male,35,0,0,349230,7.8958,,S\\r\\n949,0,3,\"Abelseth, Mr. Olaus Jorgensen\",male,25,0,0,348122,7.65,F G63,S\\r\\n950,0,3,\"Davison, Mr. Thomas Henry\",male,,1,0,386525,16.1,,S\\r\\n951,1,1,\"Chaudanson, Miss. Victorine\",female,36,0,0,PC 17608,262.375,B61,C\\r\\n952,0,3,\"Dika, Mr. Mirko\",male,17,0,0,349232,7.8958,,S\\r\\n953,0,2,\"McCrae, Mr. Arthur Gordon\",male,32,0,0,237216,13.5,,S\\r\\n954,0,3,\"Bjorklund, Mr. Ernst Herbert\",male,18,0,0,347090,7.75,,S\\r\\n955,1,3,\"Bradley, Miss. Bridget Delia\",female,22,0,0,334914,7.725,,Q\\r\\n956,0,1,\"Ryerson, Master. John Borie\",male,13,2,2,PC 17608,262.375,B57 B59 B63 B66,C\\r\\n957,1,2,\"Corey, Mrs. Percy C (Mary Phyllis Elizabeth Miller)\",female,,0,0,F.C.C. 13534,21,,S\\r\\n958,1,3,\"Burns, Miss. Mary Delia\",female,18,0,0,330963,7.8792,,Q\\r\\n959,0,1,\"Moore, Mr. Clarence Bloomfield\",male,47,0,0,113796,42.4,,S\\r\\n960,0,1,\"Tucker, Mr. Gilbert Milligan Jr\",male,31,0,0,2543,28.5375,C53,C\\r\\n961,1,1,\"Fortune, Mrs. Mark (Mary McDougald)\",female,60,1,4,19950,263,C23 C25 C27,S\\r\\n962,1,3,\"Mulvihill, Miss. Bertha E\",female,24,0,0,382653,7.75,,Q\\r\\n963,0,3,\"Minkoff, Mr. Lazar\",male,21,0,0,349211,7.8958,,S\\r\\n964,1,3,\"Nieminen, Miss. Manta Josefina\",female,29,0,0,3101297,7.925,,S\\r\\n965,0,1,\"Ovies y Rodriguez, Mr. Servando\",male,28.5,0,0,PC 17562,27.7208,D43,C\\r\\n966,1,1,\"Geiger, Miss. Amalie\",female,35,0,0,113503,211.5,C130,C\\r\\n967,0,1,\"Keeping, Mr. Edwin\",male,32.5,0,0,113503,211.5,C132,C\\r\\n968,0,3,\"Miles, Mr. Frank\",male,,0,0,359306,8.05,,S\\r\\n969,1,1,\"Cornell, Mrs. Robert Clifford (Malvina Helen Lamson)\",female,55,2,0,11770,25.7,C101,S\\r\\n970,0,2,\"Aldworth, Mr. Charles Augustus\",male,30,0,0,248744,13,,S\\r\\n971,1,3,\"Doyle, Miss. Elizabeth\",female,24,0,0,368702,7.75,,Q\\r\\n972,0,3,\"Boulos, Master. Akar\",male,6,1,1,2678,15.2458,,C\\r\\n973,0,1,\"Straus, Mr. Isidor\",male,67,1,0,PC 17483,221.7792,C55 C57,S\\r\\n974,0,1,\"Case, Mr. Howard Brown\",male,49,0,0,19924,26,,S\\r\\n975,0,3,\"Demetri, Mr. Marinko\",male,,0,0,349238,7.8958,,S\\r\\n976,0,2,\"Lamb, Mr. John Joseph\",male,,0,0,240261,10.7083,,Q\\r\\n977,0,3,\"Khalil, Mr. Betros\",male,,1,0,2660,14.4542,,C\\r\\n978,1,3,\"Barry, Miss. Julia\",female,27,0,0,330844,7.8792,,Q\\r\\n979,1,3,\"Badman, Miss. Emily Louisa\",female,18,0,0,A/4 31416,8.05,,S\\r\\n980,1,3,\"O\\'Donoghue, Ms. Bridget\",female,,0,0,364856,7.75,,Q\\r\\n981,0,2,\"Wells, Master. Ralph Lester\",male,2,1,1,29103,23,,S\\r\\n982,1,3,\"Dyker, Mrs. Adolf Fredrik (Anna Elisabeth Judith Andersson)\",female,22,1,0,347072,13.9,,S\\r\\n983,0,3,\"Pedersen, Mr. Olaf\",male,,0,0,345498,7.775,,S\\r\\n984,1,1,\"Davidson, Mrs. Thornton (Orian Hays)\",female,27,1,2,F.C. 12750,52,B71,S\\r\\n985,0,3,\"Guest, Mr. Robert\",male,,0,0,376563,8.05,,S\\r\\n986,0,1,\"Birnbaum, Mr. Jakob\",male,25,0,0,13905,26,,C\\r\\n987,0,3,\"Tenglin, Mr. Gunnar Isidor\",male,25,0,0,350033,7.7958,,S\\r\\n988,1,1,\"Cavendish, Mrs. Tyrell William (Julia Florence Siegel)\",female,76,1,0,19877,78.85,C46,S\\r\\n989,0,3,\"Makinen, Mr. Kalle Edvard\",male,29,0,0,STON/O 2. 3101268,7.925,,S\\r\\n990,1,3,\"Braf, Miss. Elin Ester Maria\",female,20,0,0,347471,7.8542,,S\\r\\n991,0,3,\"Nancarrow, Mr. William Henry\",male,33,0,0,A./5. 3338,8.05,,S\\r\\n992,1,1,\"Stengel, Mrs. Charles Emil Henry (Annie May Morris)\",female,43,1,0,11778,55.4417,C116,C\\r\\n993,0,2,\"Weisz, Mr. Leopold\",male,27,1,0,228414,26,,S\\r\\n994,0,3,\"Foley, Mr. William\",male,,0,0,365235,7.75,,Q\\r\\n995,0,3,\"Johansson Palmquist, Mr. Oskar Leander\",male,26,0,0,347070,7.775,,S\\r\\n996,1,3,\"Thomas, Mrs. Alexander (Thamine Thelma\"\")\"\"\",female,16,1,1,2625,8.5167,,C\\r\\n997,0,3,\"Holthen, Mr. Johan Martin\",male,28,0,0,C 4001,22.525,,S\\r\\n998,0,3,\"Buckley, Mr. Daniel\",male,21,0,0,330920,7.8208,,Q\\r\\n999,0,3,\"Ryan, Mr. Edward\",male,,0,0,383162,7.75,,Q\\r\\n1000,0,3,\"Willer, Mr. Aaron (Abi Weller\"\")\"\"\",male,,0,0,3410,8.7125,,S\\r\\n1001,0,2,\"Swane, Mr. George\",male,18.5,0,0,248734,13,F,S\\r\\n1002,0,2,\"Stanton, Mr. Samuel Ward\",male,41,0,0,237734,15.0458,,C\\r\\n1003,1,3,\"Shine, Miss. Ellen Natalia\",female,,0,0,330968,7.7792,,Q\\r\\n1004,1,1,\"Evans, Miss. Edith Corse\",female,36,0,0,PC 17531,31.6792,A29,C\\r\\n1005,1,3,\"Buckley, Miss. Katherine\",female,18.5,0,0,329944,7.2833,,Q\\r\\n1006,1,1,\"Straus, Mrs. Isidor (Rosalie Ida Blun)\",female,63,1,0,PC 17483,221.7792,C55 C57,S\\r\\n1007,0,3,\"Chronopoulos, Mr. Demetrios\",male,18,1,0,2680,14.4542,,C\\r\\n1008,0,3,\"Thomas, Mr. John\",male,,0,0,2681,6.4375,,C\\r\\n1009,1,3,\"Sandstrom, Miss. Beatrice Irene\",female,1,1,1,PP 9549,16.7,G6,S\\r\\n1010,0,1,\"Beattie, Mr. Thomson\",male,36,0,0,13050,75.2417,C6,C\\r\\n1011,1,2,\"Chapman, Mrs. John Henry (Sara Elizabeth Lawry)\",female,29,1,0,SC/AH 29037,26,,S\\r\\n1012,1,2,\"Watt, Miss. Bertha J\",female,12,0,0,C.A. 33595,15.75,,S\\r\\n1013,0,3,\"Kiernan, Mr. John\",male,,1,0,367227,7.75,,Q\\r\\n1014,1,1,\"Schabert, Mrs. Paul (Emma Mock)\",female,35,1,0,13236,57.75,C28,C\\r\\n1015,0,3,\"Carver, Mr. Alfred John\",male,28,0,0,392095,7.25,,S\\r\\n1016,0,3,\"Kennedy, Mr. John\",male,,0,0,368783,7.75,,Q\\r\\n1017,1,3,\"Cribb, Miss. Laura Alice\",female,17,0,1,371362,16.1,,S\\r\\n1018,0,3,\"Brobeck, Mr. Karl Rudolf\",male,22,0,0,350045,7.7958,,S\\r\\n1019,1,3,\"McCoy, Miss. Alicia\",female,,2,0,367226,23.25,,Q\\r\\n1020,0,2,\"Bowenur, Mr. Solomon\",male,42,0,0,211535,13,,S\\r\\n1021,0,3,\"Petersen, Mr. Marius\",male,24,0,0,342441,8.05,,S\\r\\n1022,0,3,\"Spinner, Mr. Henry John\",male,32,0,0,STON/OQ. 369943,8.05,,S\\r\\n1023,0,1,\"Gracie, Col. Archibald IV\",male,53,0,0,113780,28.5,C51,C\\r\\n1024,1,3,\"Lefebre, Mrs. Frank (Frances)\",female,,0,4,4133,25.4667,,S\\r\\n1025,0,3,\"Thomas, Mr. Charles P\",male,,1,0,2621,6.4375,,C\\r\\n1026,0,3,\"Dintcheff, Mr. Valtcho\",male,43,0,0,349226,7.8958,,S\\r\\n1027,0,3,\"Carlsson, Mr. Carl Robert\",male,24,0,0,350409,7.8542,,S\\r\\n1028,0,3,\"Zakarian, Mr. Mapriededer\",male,26.5,0,0,2656,7.225,,C\\r\\n1029,0,2,\"Schmidt, Mr. August\",male,26,0,0,248659,13,,S\\r\\n1030,1,3,\"Drapkin, Miss. Jennie\",female,23,0,0,SOTON/OQ 392083,8.05,,S\\r\\n1031,0,3,\"Goodwin, Mr. Charles Frederick\",male,40,1,6,CA 2144,46.9,,S\\r\\n1032,1,3,\"Goodwin, Miss. Jessie Allis\",female,10,5,2,CA 2144,46.9,,S\\r\\n1033,1,1,\"Daniels, Miss. Sarah\",female,33,0,0,113781,151.55,,S\\r\\n1034,0,1,\"Ryerson, Mr. Arthur Larned\",male,61,1,3,PC 17608,262.375,B57 B59 B63 B66,C\\r\\n1035,0,2,\"Beauchamp, Mr. Henry James\",male,28,0,0,244358,26,,S\\r\\n1036,0,1,\"Lindeberg-Lind, Mr. Erik Gustaf (Mr Edward Lingrey\"\")\"\"\",male,42,0,0,17475,26.55,,S\\r\\n1037,0,3,\"Vander Planke, Mr. Julius\",male,31,3,0,345763,18,,S\\r\\n1038,0,1,\"Hilliard, Mr. Herbert Henry\",male,,0,0,17463,51.8625,E46,S\\r\\n1039,0,3,\"Davies, Mr. Evan\",male,22,0,0,SC/A4 23568,8.05,,S\\r\\n1040,0,1,\"Crafton, Mr. John Bertram\",male,,0,0,113791,26.55,,S\\r\\n1041,0,2,\"Lahtinen, Rev. William\",male,30,1,1,250651,26,,S\\r\\n1042,1,1,\"Earnshaw, Mrs. Boulton (Olive Potter)\",female,23,0,1,11767,83.1583,C54,C\\r\\n1043,0,3,\"Matinoff, Mr. Nicola\",male,,0,0,349255,7.8958,,C\\r\\n1044,0,3,\"Storey, Mr. Thomas\",male,60.5,0,0,3701,,,S\\r\\n1045,1,3,\"Klasen, Mrs. (Hulda Kristina Eugenia Lofqvist)\",female,36,0,2,350405,12.1833,,S\\r\\n1046,0,3,\"Asplund, Master. Filip Oscar\",male,13,4,2,347077,31.3875,,S\\r\\n1047,0,3,\"Duquemin, Mr. Joseph\",male,24,0,0,S.O./P.P. 752,7.55,,S\\r\\n1048,1,1,\"Bird, Miss. Ellen\",female,29,0,0,PC 17483,221.7792,C97,S\\r\\n1049,1,3,\"Lundin, Miss. Olga Elida\",female,23,0,0,347469,7.8542,,S\\r\\n1050,0,1,\"Borebank, Mr. John James\",male,42,0,0,110489,26.55,D22,S\\r\\n1051,1,3,\"Peacock, Mrs. Benjamin (Edith Nile)\",female,26,0,2,SOTON/O.Q. 3101315,13.775,,S\\r\\n1052,1,3,\"Smyth, Miss. Julia\",female,,0,0,335432,7.7333,,Q\\r\\n1053,0,3,\"Touma, Master. Georges Youssef\",male,7,1,1,2650,15.2458,,C\\r\\n1054,1,2,\"Wright, Miss. Marion\",female,26,0,0,220844,13.5,,S\\r\\n1055,0,3,\"Pearce, Mr. Ernest\",male,,0,0,343271,7,,S\\r\\n1056,0,2,\"Peruschitz, Rev. Joseph Maria\",male,41,0,0,237393,13,,S\\r\\n1057,1,3,\"Kink-Heilmann, Mrs. Anton (Luise Heilmann)\",female,26,1,1,315153,22.025,,S\\r\\n1058,0,1,\"Brandeis, Mr. Emil\",male,48,0,0,PC 17591,50.4958,B10,C\\r\\n1059,0,3,\"Ford, Mr. Edward Watson\",male,18,2,2,W./C. 6608,34.375,,S\\r\\n1060,1,1,\"Cassebeer, Mrs. Henry Arthur Jr (Eleanor Genevieve Fosdick)\",female,,0,0,17770,27.7208,,C\\r\\n1061,1,3,\"Hellstrom, Miss. Hilda Maria\",female,22,0,0,7548,8.9625,,S\\r\\n1062,0,3,\"Lithman, Mr. Simon\",male,,0,0,S.O./P.P. 251,7.55,,S\\r\\n1063,0,3,\"Zakarian, Mr. Ortin\",male,27,0,0,2670,7.225,,C\\r\\n1064,0,3,\"Dyker, Mr. Adolf Fredrik\",male,23,1,0,347072,13.9,,S\\r\\n1065,0,3,\"Torfa, Mr. Assad\",male,,0,0,2673,7.2292,,C\\r\\n1066,0,3,\"Asplund, Mr. Carl Oscar Vilhelm Gustafsson\",male,40,1,5,347077,31.3875,,S\\r\\n1067,1,2,\"Brown, Miss. Edith Eileen\",female,15,0,2,29750,39,,S\\r\\n1068,1,2,\"Sincock, Miss. Maude\",female,20,0,0,C.A. 33112,36.75,,S\\r\\n1069,0,1,\"Stengel, Mr. Charles Emil Henry\",male,54,1,0,11778,55.4417,C116,C\\r\\n1070,1,2,\"Becker, Mrs. Allen Oliver (Nellie E Baumgardner)\",female,36,0,3,230136,39,F4,S\\r\\n1071,1,1,\"Compton, Mrs. Alexander Taylor (Mary Eliza Ingersoll)\",female,64,0,2,PC 17756,83.1583,E45,C\\r\\n1072,0,2,\"McCrie, Mr. James Matthew\",male,30,0,0,233478,13,,S\\r\\n1073,0,1,\"Compton, Mr. Alexander Taylor Jr\",male,37,1,1,PC 17756,83.1583,E52,C\\r\\n1074,1,1,\"Marvin, Mrs. Daniel Warner (Mary Graham Carmichael Farquarson)\",female,18,1,0,113773,53.1,D30,S\\r\\n1075,0,3,\"Lane, Mr. Patrick\",male,,0,0,7935,7.75,,Q\\r\\n1076,1,1,\"Douglas, Mrs. Frederick Charles (Mary Helene Baxter)\",female,27,1,1,PC 17558,247.5208,B58 B60,C\\r\\n1077,0,2,\"Maybery, Mr. Frank Hubert\",male,40,0,0,239059,16,,S\\r\\n1078,1,2,\"Phillips, Miss. Alice Frances Louisa\",female,21,0,1,S.O./P.P. 2,21,,S\\r\\n1079,0,3,\"Davies, Mr. Joseph\",male,17,2,0,A/4 48873,8.05,,S\\r\\n1080,1,3,\"Sage, Miss. Ada\",female,,8,2,CA. 2343,69.55,,S\\r\\n1081,0,2,\"Veal, Mr. James\",male,40,0,0,28221,13,,S\\r\\n1082,0,2,\"Angle, Mr. William A\",male,34,1,0,226875,26,,S\\r\\n1083,0,1,\"Salomon, Mr. Abraham L\",male,,0,0,111163,26,,S\\r\\n1084,0,3,\"van Billiard, Master. Walter John\",male,11.5,1,1,A/5. 851,14.5,,S\\r\\n1085,0,2,\"Lingane, Mr. John\",male,61,0,0,235509,12.35,,Q\\r\\n1086,0,2,\"Drew, Master. Marshall Brines\",male,8,0,2,28220,32.5,,S\\r\\n1087,0,3,\"Karlsson, Mr. Julius Konrad Eugen\",male,33,0,0,347465,7.8542,,S\\r\\n1088,0,1,\"Spedden, Master. Robert Douglas\",male,6,0,2,16966,134.5,E34,C\\r\\n1089,1,3,\"Nilsson, Miss. Berta Olivia\",female,18,0,0,347066,7.775,,S\\r\\n1090,0,2,\"Baimbrigge, Mr. Charles Robert\",male,23,0,0,C.A. 31030,10.5,,S\\r\\n1091,1,3,\"Rasmussen, Mrs. (Lena Jacobsen Solvang)\",female,,0,0,65305,8.1125,,S\\r\\n1092,1,3,\"Murphy, Miss. Nora\",female,,0,0,36568,15.5,,Q\\r\\n1093,0,3,\"Danbom, Master. Gilbert Sigvard Emanuel\",male,0.33,0,2,347080,14.4,,S\\r\\n1094,0,1,\"Astor, Col. John Jacob\",male,47,1,0,PC 17757,227.525,C62 C64,C\\r\\n1095,1,2,\"Quick, Miss. Winifred Vera\",female,8,1,1,26360,26,,S\\r\\n1096,0,2,\"Andrew, Mr. Frank Thomas\",male,25,0,0,C.A. 34050,10.5,,S\\r\\n1097,0,1,\"Omont, Mr. Alfred Fernand\",male,,0,0,F.C. 12998,25.7417,,C\\r\\n1098,1,3,\"McGowan, Miss. Katherine\",female,35,0,0,9232,7.75,,Q\\r\\n1099,0,2,\"Collett, Mr. Sidney C Stuart\",male,24,0,0,28034,10.5,,S\\r\\n1100,1,1,\"Rosenbaum, Miss. Edith Louise\",female,33,0,0,PC 17613,27.7208,A11,C\\r\\n1101,0,3,\"Delalic, Mr. Redjo\",male,25,0,0,349250,7.8958,,S\\r\\n1102,0,3,\"Andersen, Mr. Albert Karvin\",male,32,0,0,C 4001,22.525,,S\\r\\n1103,0,3,\"Finoli, Mr. Luigi\",male,,0,0,SOTON/O.Q. 3101308,7.05,,S\\r\\n1104,0,2,\"Deacon, Mr. Percy William\",male,17,0,0,S.O.C. 14879,73.5,,S\\r\\n1105,1,2,\"Howard, Mrs. Benjamin (Ellen Truelove Arman)\",female,60,1,0,24065,26,,S\\r\\n1106,1,3,\"Andersson, Miss. Ida Augusta Margareta\",female,38,4,2,347091,7.775,,S\\r\\n1107,0,1,\"Head, Mr. Christopher\",male,42,0,0,113038,42.5,B11,S\\r\\n1108,1,3,\"Mahon, Miss. Bridget Delia\",female,,0,0,330924,7.8792,,Q\\r\\n1109,0,1,\"Wick, Mr. George Dennick\",male,57,1,1,36928,164.8667,,S\\r\\n1110,1,1,\"Widener, Mrs. George Dunton (Eleanor Elkins)\",female,50,1,1,113503,211.5,C80,C\\r\\n1111,0,3,\"Thomson, Mr. Alexander Morrison\",male,,0,0,32302,8.05,,S\\r\\n1112,1,2,\"Duran y More, Miss. Florentina\",female,30,1,0,SC/PARIS 2148,13.8583,,C\\r\\n1113,0,3,\"Reynolds, Mr. Harold J\",male,21,0,0,342684,8.05,,S\\r\\n1114,1,2,\"Cook, Mrs. (Selena Rogers)\",female,22,0,0,W./C. 14266,10.5,F33,S\\r\\n1115,0,3,\"Karlsson, Mr. Einar Gervasius\",male,21,0,0,350053,7.7958,,S\\r\\n1116,1,1,\"Candee, Mrs. Edward (Helen Churchill Hungerford)\",female,53,0,0,PC 17606,27.4458,,C\\r\\n1117,1,3,\"Moubarek, Mrs. George (Omine Amenia\"\" Alexander)\"\"\",female,,0,2,2661,15.2458,,C\\r\\n1118,0,3,\"Asplund, Mr. Johan Charles\",male,23,0,0,350054,7.7958,,S\\r\\n1119,1,3,\"McNeill, Miss. Bridget\",female,,0,0,370368,7.75,,Q\\r\\n1120,0,3,\"Everett, Mr. Thomas James\",male,40.5,0,0,C.A. 6212,15.1,,S\\r\\n1121,0,2,\"Hocking, Mr. Samuel James Metcalfe\",male,36,0,0,242963,13,,S\\r\\n1122,0,2,\"Sweet, Mr. George Frederick\",male,14,0,0,220845,65,,S\\r\\n1123,1,1,\"Willard, Miss. Constance\",female,21,0,0,113795,26.55,,S\\r\\n1124,0,3,\"Wiklund, Mr. Karl Johan\",male,21,1,0,3101266,6.4958,,S\\r\\n1125,0,3,\"Linehan, Mr. Michael\",male,,0,0,330971,7.8792,,Q\\r\\n1126,0,1,\"Cumings, Mr. John Bradley\",male,39,1,0,PC 17599,71.2833,C85,C\\r\\n1127,0,3,\"Vendel, Mr. Olof Edvin\",male,20,0,0,350416,7.8542,,S\\r\\n1128,0,1,\"Warren, Mr. Frank Manley\",male,64,1,0,110813,75.25,D37,C\\r\\n1129,0,3,\"Baccos, Mr. Raffull\",male,20,0,0,2679,7.225,,C\\r\\n1130,1,2,\"Hiltunen, Miss. Marta\",female,18,1,1,250650,13,,S\\r\\n1131,1,1,\"Douglas, Mrs. Walter Donald (Mahala Dutton)\",female,48,1,0,PC 17761,106.425,C86,C\\r\\n1132,1,1,\"Lindstrom, Mrs. Carl Johan (Sigrid Posse)\",female,55,0,0,112377,27.7208,,C\\r\\n1133,1,2,\"Christy, Mrs. (Alice Frances)\",female,45,0,2,237789,30,,S\\r\\n1134,0,1,\"Spedden, Mr. Frederic Oakley\",male,45,1,1,16966,134.5,E34,C\\r\\n1135,0,3,\"Hyman, Mr. Abraham\",male,,0,0,3470,7.8875,,S\\r\\n1136,0,3,\"Johnston, Master. William Arthur Willie\"\"\"\"\",male,,1,2,W./C. 6607,23.45,,S\\r\\n1137,0,1,\"Kenyon, Mr. Frederick R\",male,41,1,0,17464,51.8625,D21,S\\r\\n1138,1,2,\"Karnes, Mrs. J Frank (Claire Bennett)\",female,22,0,0,F.C.C. 13534,21,,S\\r\\n1139,0,2,\"Drew, Mr. James Vivian\",male,42,1,1,28220,32.5,,S\\r\\n1140,1,2,\"Hold, Mrs. Stephen (Annie Margaret Hill)\",female,29,1,0,26707,26,,S\\r\\n1141,1,3,\"Khalil, Mrs. Betros (Zahie Maria\"\" Elias)\"\"\",female,,1,0,2660,14.4542,,C\\r\\n1142,1,2,\"West, Miss. Barbara J\",female,0.92,1,2,C.A. 34651,27.75,,S\\r\\n1143,0,3,\"Abrahamsson, Mr. Abraham August Johannes\",male,20,0,0,SOTON/O2 3101284,7.925,,S\\r\\n1144,0,1,\"Clark, Mr. Walter Miller\",male,27,1,0,13508,136.7792,C89,C\\r\\n1145,0,3,\"Salander, Mr. Karl Johan\",male,24,0,0,7266,9.325,,S\\r\\n1146,0,3,\"Wenzel, Mr. Linhart\",male,32.5,0,0,345775,9.5,,S\\r\\n1147,0,3,\"MacKay, Mr. George William\",male,,0,0,C.A. 42795,7.55,,S\\r\\n1148,0,3,\"Mahon, Mr. John\",male,,0,0,AQ/4 3130,7.75,,Q\\r\\n1149,0,3,\"Niklasson, Mr. Samuel\",male,28,0,0,363611,8.05,,S\\r\\n1150,1,2,\"Bentham, Miss. Lilian W\",female,19,0,0,28404,13,,S\\r\\n1151,0,3,\"Midtsjo, Mr. Karl Albert\",male,21,0,0,345501,7.775,,S\\r\\n1152,0,3,\"de Messemaeker, Mr. Guillaume Joseph\",male,36.5,1,0,345572,17.4,,S\\r\\n1153,0,3,\"Nilsson, Mr. August Ferdinand\",male,21,0,0,350410,7.8542,,S\\r\\n1154,1,2,\"Wells, Mrs. Arthur Henry (Addie\"\" Dart Trevaskis)\"\"\",female,29,0,2,29103,23,,S\\r\\n1155,1,3,\"Klasen, Miss. Gertrud Emilia\",female,1,1,1,350405,12.1833,,S\\r\\n1156,0,2,\"Portaluppi, Mr. Emilio Ilario Giuseppe\",male,30,0,0,C.A. 34644,12.7375,,C\\r\\n1157,0,3,\"Lyntakoff, Mr. Stanko\",male,,0,0,349235,7.8958,,S\\r\\n1158,0,1,\"Chisholm, Mr. Roderick Robert Crispin\",male,,0,0,112051,0,,S\\r\\n1159,0,3,\"Warren, Mr. Charles William\",male,,0,0,C.A. 49867,7.55,,S\\r\\n1160,1,3,\"Howard, Miss. May Elizabeth\",female,,0,0,A. 2. 39186,8.05,,S\\r\\n1161,0,3,\"Pokrnic, Mr. Mate\",male,17,0,0,315095,8.6625,,S\\r\\n1162,0,1,\"McCaffry, Mr. Thomas Francis\",male,46,0,0,13050,75.2417,C6,C\\r\\n1163,0,3,\"Fox, Mr. Patrick\",male,,0,0,368573,7.75,,Q\\r\\n1164,1,1,\"Clark, Mrs. Walter Miller (Virginia McDowell)\",female,26,1,0,13508,136.7792,C89,C\\r\\n1165,1,3,\"Lennon, Miss. Mary\",female,,1,0,370371,15.5,,Q\\r\\n1166,0,3,\"Saade, Mr. Jean Nassr\",male,,0,0,2676,7.225,,C\\r\\n1167,1,2,\"Bryhl, Miss. Dagmar Jenny Ingeborg \",female,20,1,0,236853,26,,S\\r\\n1168,0,2,\"Parker, Mr. Clifford Richard\",male,28,0,0,SC 14888,10.5,,S\\r\\n1169,0,2,\"Faunthorpe, Mr. Harry\",male,40,1,0,2926,26,,S\\r\\n1170,0,2,\"Ware, Mr. John James\",male,30,1,0,CA 31352,21,,S\\r\\n1171,0,2,\"Oxenham, Mr. Percy Thomas\",male,22,0,0,W./C. 14260,10.5,,S\\r\\n1172,1,3,\"Oreskovic, Miss. Jelka\",female,23,0,0,315085,8.6625,,S\\r\\n1173,0,3,\"Peacock, Master. Alfred Edward\",male,0.75,1,1,SOTON/O.Q. 3101315,13.775,,S\\r\\n1174,1,3,\"Fleming, Miss. Honora\",female,,0,0,364859,7.75,,Q\\r\\n1175,1,3,\"Touma, Miss. Maria Youssef\",female,9,1,1,2650,15.2458,,C\\r\\n1176,1,3,\"Rosblom, Miss. Salli Helena\",female,2,1,1,370129,20.2125,,S\\r\\n1177,0,3,\"Dennis, Mr. William\",male,36,0,0,A/5 21175,7.25,,S\\r\\n1178,0,3,\"Franklin, Mr. Charles (Charles Fardon)\",male,,0,0,SOTON/O.Q. 3101314,7.25,,S\\r\\n1179,0,1,\"Snyder, Mr. John Pillsbury\",male,24,1,0,21228,82.2667,B45,S\\r\\n1180,0,3,\"Mardirosian, Mr. Sarkis\",male,,0,0,2655,7.2292,F E46,C\\r\\n1181,0,3,\"Ford, Mr. Arthur\",male,,0,0,A/5 1478,8.05,,S\\r\\n1182,0,1,\"Rheims, Mr. George Alexander Lucien\",male,,0,0,PC 17607,39.6,,S\\r\\n1183,1,3,\"Daly, Miss. Margaret Marcella Maggie\"\"\"\"\",female,30,0,0,382650,6.95,,Q\\r\\n1184,0,3,\"Nasr, Mr. Mustafa\",male,,0,0,2652,7.2292,,C\\r\\n1185,0,1,\"Dodge, Dr. Washington\",male,53,1,1,33638,81.8583,A34,S\\r\\n1186,0,3,\"Wittevrongel, Mr. Camille\",male,36,0,0,345771,9.5,,S\\r\\n1187,0,3,\"Angheloff, Mr. Minko\",male,26,0,0,349202,7.8958,,S\\r\\n1188,1,2,\"Laroche, Miss. Louise\",female,1,1,2,SC/Paris 2123,41.5792,,C\\r\\n1189,0,3,\"Samaan, Mr. Hanna\",male,,2,0,2662,21.6792,,C\\r\\n1190,0,1,\"Loring, Mr. Joseph Holland\",male,30,0,0,113801,45.5,,S\\r\\n1191,0,3,\"Johansson, Mr. Nils\",male,29,0,0,347467,7.8542,,S\\r\\n1192,0,3,\"Olsson, Mr. Oscar Wilhelm\",male,32,0,0,347079,7.775,,S\\r\\n1193,0,2,\"Malachard, Mr. Noel\",male,,0,0,237735,15.0458,D,C\\r\\n1194,0,2,\"Phillips, Mr. Escott Robert\",male,43,0,1,S.O./P.P. 2,21,,S\\r\\n1195,0,3,\"Pokrnic, Mr. Tome\",male,24,0,0,315092,8.6625,,S\\r\\n1196,1,3,\"McCarthy, Miss. Catherine Katie\"\"\"\"\",female,,0,0,383123,7.75,,Q\\r\\n1197,1,1,\"Crosby, Mrs. Edward Gifford (Catherine Elizabeth Halstead)\",female,64,1,1,112901,26.55,B26,S\\r\\n1198,0,1,\"Allison, Mr. Hudson Joshua Creighton\",male,30,1,2,113781,151.55,C22 C26,S\\r\\n1199,0,3,\"Aks, Master. Philip Frank\",male,0.83,0,1,392091,9.35,,S\\r\\n1200,0,1,\"Hays, Mr. Charles Melville\",male,55,1,1,12749,93.5,B69,S\\r\\n1201,1,3,\"Hansen, Mrs. Claus Peter (Jennie L Howard)\",female,45,1,0,350026,14.1083,,S\\r\\n1202,0,3,\"Cacic, Mr. Jego Grga\",male,18,0,0,315091,8.6625,,S\\r\\n1203,0,3,\"Vartanian, Mr. David\",male,22,0,0,2658,7.225,,C\\r\\n1204,0,3,\"Sadowitz, Mr. Harry\",male,,0,0,LP 1588,7.575,,S\\r\\n1205,1,3,\"Carr, Miss. Jeannie\",female,37,0,0,368364,7.75,,Q\\r\\n1206,1,1,\"White, Mrs. John Stuart (Ella Holmes)\",female,55,0,0,PC 17760,135.6333,C32,C\\r\\n1207,1,3,\"Hagardon, Miss. Kate\",female,17,0,0,AQ/3. 30631,7.7333,,Q\\r\\n1208,0,1,\"Spencer, Mr. William Augustus\",male,57,1,0,PC 17569,146.5208,B78,C\\r\\n1209,0,2,\"Rogers, Mr. Reginald Harry\",male,19,0,0,28004,10.5,,S\\r\\n1210,0,3,\"Jonsson, Mr. Nils Hilding\",male,27,0,0,350408,7.8542,,S\\r\\n1211,0,2,\"Jefferys, Mr. Ernest Wilfred\",male,22,2,0,C.A. 31029,31.5,,S\\r\\n1212,0,3,\"Andersson, Mr. Johan Samuel\",male,26,0,0,347075,7.775,,S\\r\\n1213,0,3,\"Krekorian, Mr. Neshan\",male,25,0,0,2654,7.2292,F E57,C\\r\\n1214,0,2,\"Nesson, Mr. Israel\",male,26,0,0,244368,13,F2,S\\r\\n1215,0,1,\"Rowe, Mr. Alfred G\",male,33,0,0,113790,26.55,,S\\r\\n1216,1,1,\"Kreuchen, Miss. Emilie\",female,39,0,0,24160,211.3375,,S\\r\\n1217,0,3,\"Assam, Mr. Ali\",male,23,0,0,SOTON/O.Q. 3101309,7.05,,S\\r\\n1218,1,2,\"Becker, Miss. Ruth Elizabeth\",female,12,2,1,230136,39,F4,S\\r\\n1219,0,1,\"Rosenshine, Mr. George (Mr George Thorne\"\")\"\"\",male,46,0,0,PC 17585,79.2,,C\\r\\n1220,0,2,\"Clarke, Mr. Charles Valentine\",male,29,1,0,2003,26,,S\\r\\n1221,0,2,\"Enander, Mr. Ingvar\",male,21,0,0,236854,13,,S\\r\\n1222,1,2,\"Davies, Mrs. John Morgan (Elizabeth Agnes Mary White) \",female,48,0,2,C.A. 33112,36.75,,S\\r\\n1223,0,1,\"Dulles, Mr. William Crothers\",male,39,0,0,PC 17580,29.7,A18,C\\r\\n1224,0,3,\"Thomas, Mr. Tannous\",male,,0,0,2684,7.225,,C\\r\\n1225,1,3,\"Nakid, Mrs. Said (Waika Mary\"\" Mowad)\"\"\",female,19,1,1,2653,15.7417,,C\\r\\n1226,0,3,\"Cor, Mr. Ivan\",male,27,0,0,349229,7.8958,,S\\r\\n1227,0,1,\"Maguire, Mr. John Edward\",male,30,0,0,110469,26,C106,S\\r\\n1228,0,2,\"de Brito, Mr. Jose Joaquim\",male,32,0,0,244360,13,,S\\r\\n1229,0,3,\"Elias, Mr. Joseph\",male,39,0,2,2675,7.2292,,C\\r\\n1230,0,2,\"Denbury, Mr. Herbert\",male,25,0,0,C.A. 31029,31.5,,S\\r\\n1231,0,3,\"Betros, Master. Seman\",male,,0,0,2622,7.2292,,C\\r\\n1232,0,2,\"Fillbrook, Mr. Joseph Charles\",male,18,0,0,C.A. 15185,10.5,,S\\r\\n1233,0,3,\"Lundstrom, Mr. Thure Edvin\",male,32,0,0,350403,7.5792,,S\\r\\n1234,0,3,\"Sage, Mr. John George\",male,,1,9,CA. 2343,69.55,,S\\r\\n1235,1,1,\"Cardeza, Mrs. James Warburton Martinez (Charlotte Wardle Drake)\",female,58,0,1,PC 17755,512.3292,B51 B53 B55,C\\r\\n1236,0,3,\"van Billiard, Master. James William\",male,,1,1,A/5. 851,14.5,,S\\r\\n1237,1,3,\"Abelseth, Miss. Karen Marie\",female,16,0,0,348125,7.65,,S\\r\\n1238,0,2,\"Botsford, Mr. William Hull\",male,26,0,0,237670,13,,S\\r\\n1239,1,3,\"Whabee, Mrs. George Joseph (Shawneene Abi-Saab)\",female,38,0,0,2688,7.2292,,C\\r\\n1240,0,2,\"Giles, Mr. Ralph\",male,24,0,0,248726,13.5,,S\\r\\n1241,1,2,\"Walcroft, Miss. Nellie\",female,31,0,0,F.C.C. 13528,21,,S\\r\\n1242,1,1,\"Greenfield, Mrs. Leo David (Blanche Strouse)\",female,45,0,1,PC 17759,63.3583,D10 D12,C\\r\\n1243,0,2,\"Stokes, Mr. Philip Joseph\",male,25,0,0,F.C.C. 13540,10.5,,S\\r\\n1244,0,2,\"Dibden, Mr. William\",male,18,0,0,S.O.C. 14879,73.5,,S\\r\\n1245,0,2,\"Herman, Mr. Samuel\",male,49,1,2,220845,65,,S\\r\\n1246,1,3,\"Dean, Miss. Elizabeth Gladys Millvina\"\"\"\"\",female,0.17,1,2,C.A. 2315,20.575,,S\\r\\n1247,0,1,\"Julian, Mr. Henry Forbes\",male,50,0,0,113044,26,E60,S\\r\\n1248,1,1,\"Brown, Mrs. John Murray (Caroline Lane Lamson)\",female,59,2,0,11769,51.4792,C101,S\\r\\n1249,0,3,\"Lockyer, Mr. Edward\",male,,0,0,1222,7.8792,,S\\r\\n1250,0,3,\"O\\'Keefe, Mr. Patrick\",male,,0,0,368402,7.75,,Q\\r\\n1251,1,3,\"Lindell, Mrs. Edvard Bengtsson (Elin Gerda Persson)\",female,30,1,0,349910,15.55,,S\\r\\n1252,0,3,\"Sage, Master. William Henry\",male,14.5,8,2,CA. 2343,69.55,,S\\r\\n1253,1,2,\"Mallet, Mrs. Albert (Antoinette Magnin)\",female,24,1,1,S.C./PARIS 2079,37.0042,,C\\r\\n1254,1,2,\"Ware, Mrs. John James (Florence Louise Long)\",female,31,0,0,CA 31352,21,,S\\r\\n1255,0,3,\"Strilic, Mr. Ivan\",male,27,0,0,315083,8.6625,,S\\r\\n1256,1,1,\"Harder, Mrs. George Achilles (Dorothy Annan)\",female,25,1,0,11765,55.4417,E50,C\\r\\n1257,1,3,\"Sage, Mrs. John (Annie Bullen)\",female,,1,9,CA. 2343,69.55,,S\\r\\n1258,0,3,\"Caram, Mr. Joseph\",male,,1,0,2689,14.4583,,C\\r\\n1259,1,3,\"Riihivouri, Miss. Susanna Juhantytar Sanni\"\"\"\"\",female,22,0,0,3101295,39.6875,,S\\r\\n1260,1,1,\"Gibson, Mrs. Leonard (Pauline C Boeson)\",female,45,0,1,112378,59.4,,C\\r\\n1261,0,2,\"Pallas y Castello, Mr. Emilio\",male,29,0,0,SC/PARIS 2147,13.8583,,C\\r\\n1262,0,2,\"Giles, Mr. Edgar\",male,21,1,0,28133,11.5,,S\\r\\n1263,1,1,\"Wilson, Miss. Helen Alice\",female,31,0,0,16966,134.5,E39 E41,C\\r\\n1264,0,1,\"Ismay, Mr. Joseph Bruce\",male,49,0,0,112058,0,B52 B54 B56,S\\r\\n1265,0,2,\"Harbeck, Mr. William H\",male,44,0,0,248746,13,,S\\r\\n1266,1,1,\"Dodge, Mrs. Washington (Ruth Vidaver)\",female,54,1,1,33638,81.8583,A34,S\\r\\n1267,1,1,\"Bowen, Miss. Grace Scott\",female,45,0,0,PC 17608,262.375,,C\\r\\n1268,1,3,\"Kink, Miss. Maria\",female,22,2,0,315152,8.6625,,S\\r\\n1269,0,2,\"Cotterill, Mr. Henry Harry\"\"\"\"\",male,21,0,0,29107,11.5,,S\\r\\n1270,0,1,\"Hipkins, Mr. William Edward\",male,55,0,0,680,50,C39,S\\r\\n1271,0,3,\"Asplund, Master. Carl Edgar\",male,5,4,2,347077,31.3875,,S\\r\\n1272,0,3,\"O\\'Connor, Mr. Patrick\",male,,0,0,366713,7.75,,Q\\r\\n1273,0,3,\"Foley, Mr. Joseph\",male,26,0,0,330910,7.8792,,Q\\r\\n1274,1,3,\"Risien, Mrs. Samuel (Emma)\",female,,0,0,364498,14.5,,S\\r\\n1275,1,3,\"McNamee, Mrs. Neal (Eileen O\\'Leary)\",female,19,1,0,376566,16.1,,S\\r\\n1276,0,2,\"Wheeler, Mr. Edwin Frederick\"\"\"\"\",male,,0,0,SC/PARIS 2159,12.875,,S\\r\\n1277,1,2,\"Herman, Miss. Kate\",female,24,1,2,220845,65,,S\\r\\n1278,0,3,\"Aronsson, Mr. Ernst Axel Algot\",male,24,0,0,349911,7.775,,S\\r\\n1279,0,2,\"Ashby, Mr. John\",male,57,0,0,244346,13,,S\\r\\n1280,0,3,\"Canavan, Mr. Patrick\",male,21,0,0,364858,7.75,,Q\\r\\n1281,0,3,\"Palsson, Master. Paul Folke\",male,6,3,1,349909,21.075,,S\\r\\n1282,0,1,\"Payne, Mr. Vivian Ponsonby\",male,23,0,0,12749,93.5,B24,S\\r\\n1283,1,1,\"Lines, Mrs. Ernest H (Elizabeth Lindsey James)\",female,51,0,1,PC 17592,39.4,D28,S\\r\\n1284,0,3,\"Abbott, Master. Eugene Joseph\",male,13,0,2,C.A. 2673,20.25,,S\\r\\n1285,0,2,\"Gilbert, Mr. William\",male,47,0,0,C.A. 30769,10.5,,S\\r\\n1286,0,3,\"Kink-Heilmann, Mr. Anton\",male,29,3,1,315153,22.025,,S\\r\\n1287,1,1,\"Smith, Mrs. Lucien Philip (Mary Eloise Hughes)\",female,18,1,0,13695,60,C31,S\\r\\n1288,0,3,\"Colbert, Mr. Patrick\",male,24,0,0,371109,7.25,,Q\\r\\n1289,1,1,\"Frolicher-Stehli, Mrs. Maxmillian (Margaretha Emerentia Stehli)\",female,48,1,1,13567,79.2,B41,C\\r\\n1290,0,3,\"Larsson-Rondberg, Mr. Edvard A\",male,22,0,0,347065,7.775,,S\\r\\n1291,0,3,\"Conlon, Mr. Thomas Henry\",male,31,0,0,21332,7.7333,,Q\\r\\n1292,1,1,\"Bonnell, Miss. Caroline\",female,30,0,0,36928,164.8667,C7,S\\r\\n1293,0,2,\"Gale, Mr. Harry\",male,38,1,0,28664,21,,S\\r\\n1294,1,1,\"Gibson, Miss. Dorothy Winifred\",female,22,0,1,112378,59.4,,C\\r\\n1295,0,1,\"Carrau, Mr. Jose Pedro\",male,17,0,0,113059,47.1,,S\\r\\n1296,0,1,\"Frauenthal, Mr. Isaac Gerald\",male,43,1,0,17765,27.7208,D40,C\\r\\n1297,0,2,\"Nourney, Mr. Alfred (Baron von Drachstedt\"\")\"\"\",male,20,0,0,SC/PARIS 2166,13.8625,D38,C\\r\\n1298,0,2,\"Ware, Mr. William Jeffery\",male,23,1,0,28666,10.5,,S\\r\\n1299,0,1,\"Widener, Mr. George Dunton\",male,50,1,1,113503,211.5,C80,C\\r\\n1300,1,3,\"Riordan, Miss. Johanna Hannah\"\"\"\"\",female,,0,0,334915,7.7208,,Q\\r\\n1301,1,3,\"Peacock, Miss. Treasteall\",female,3,1,1,SOTON/O.Q. 3101315,13.775,,S\\r\\n1302,1,3,\"Naughton, Miss. Hannah\",female,,0,0,365237,7.75,,Q\\r\\n1303,1,1,\"Minahan, Mrs. William Edward (Lillian E Thorpe)\",female,37,1,0,19928,90,C78,Q\\r\\n1304,1,3,\"Henriksson, Miss. Jenny Lovisa\",female,28,0,0,347086,7.775,,S\\r\\n1305,0,3,\"Spector, Mr. Woolf\",male,,0,0,A.5. 3236,8.05,,S\\r\\n1306,1,1,\"Oliva y Ocana, Dona. Fermina\",female,39,0,0,PC 17758,108.9,C105,C\\r\\n1307,0,3,\"Saether, Mr. Simon Sivertsen\",male,38.5,0,0,SOTON/O.Q. 3101262,7.25,,S\\r\\n1308,0,3,\"Ware, Mr. Frederick\",male,,0,0,359309,8.05,,S\\r\\n1309,0,3,\"Peter, Master. Michael J\",male,,1,1,2668,22.3583,,C\\r\\n'}"
            ]
          },
          "metadata": {},
          "execution_count": 42
        }
      ],
      "source": [
        "from google.colab import files\n",
        "files.upload()"
      ]
    },
    {
      "cell_type": "code",
      "source": [
        "import pandas as pd\n",
        "import numpy as np\n",
        "from sklearn.linear_model import LinearRegression\n",
        "crocks = pd.read_csv('tested.csv')\n",
        "crocks = crocks.dropna()\n",
        "crocks"
      ],
      "metadata": {
        "colab": {
          "base_uri": "https://localhost:8080/",
          "height": 424
        },
        "id": "RGm06do4WWIv",
        "outputId": "4d9012ac-976f-40df-ee64-7da3469c2b86"
      },
      "execution_count": null,
      "outputs": [
        {
          "output_type": "execute_result",
          "data": {
            "text/plain": [
              "     PassengerId  Survived  Pclass  \\\n",
              "12           904         1       1   \n",
              "14           906         1       1   \n",
              "24           916         1       1   \n",
              "26           918         1       1   \n",
              "28           920         0       1   \n",
              "..           ...       ...     ...   \n",
              "404         1296         0       1   \n",
              "405         1297         0       2   \n",
              "407         1299         0       1   \n",
              "411         1303         1       1   \n",
              "414         1306         1       1   \n",
              "\n",
              "                                                  Name     Sex   Age  SibSp  \\\n",
              "12       Snyder, Mrs. John Pillsbury (Nelle Stevenson)  female  23.0      1   \n",
              "14   Chaffee, Mrs. Herbert Fuller (Carrie Constance...  female  47.0      1   \n",
              "24     Ryerson, Mrs. Arthur Larned (Emily Maria Borie)  female  48.0      1   \n",
              "26                        Ostby, Miss. Helene Ragnhild  female  22.0      0   \n",
              "28                             Brady, Mr. John Bertram    male  41.0      0   \n",
              "..                                                 ...     ...   ...    ...   \n",
              "404                       Frauenthal, Mr. Isaac Gerald    male  43.0      1   \n",
              "405       Nourney, Mr. Alfred (Baron von Drachstedt\")\"    male  20.0      0   \n",
              "407                         Widener, Mr. George Dunton    male  50.0      1   \n",
              "411    Minahan, Mrs. William Edward (Lillian E Thorpe)  female  37.0      1   \n",
              "414                       Oliva y Ocana, Dona. Fermina  female  39.0      0   \n",
              "\n",
              "     Parch         Ticket      Fare            Cabin Embarked  \n",
              "12       0          21228   82.2667              B45        S  \n",
              "14       0    W.E.P. 5734   61.1750              E31        S  \n",
              "24       3       PC 17608  262.3750  B57 B59 B63 B66        C  \n",
              "26       1         113509   61.9792              B36        C  \n",
              "28       0         113054   30.5000              A21        S  \n",
              "..     ...            ...       ...              ...      ...  \n",
              "404      0          17765   27.7208              D40        C  \n",
              "405      0  SC/PARIS 2166   13.8625              D38        C  \n",
              "407      1         113503  211.5000              C80        C  \n",
              "411      0          19928   90.0000              C78        Q  \n",
              "414      0       PC 17758  108.9000             C105        C  \n",
              "\n",
              "[87 rows x 12 columns]"
            ],
            "text/html": [
              "\n",
              "  <div id=\"df-fea5bb37-fdb4-456f-bb7e-fde655210a34\">\n",
              "    <div class=\"colab-df-container\">\n",
              "      <div>\n",
              "<style scoped>\n",
              "    .dataframe tbody tr th:only-of-type {\n",
              "        vertical-align: middle;\n",
              "    }\n",
              "\n",
              "    .dataframe tbody tr th {\n",
              "        vertical-align: top;\n",
              "    }\n",
              "\n",
              "    .dataframe thead th {\n",
              "        text-align: right;\n",
              "    }\n",
              "</style>\n",
              "<table border=\"1\" class=\"dataframe\">\n",
              "  <thead>\n",
              "    <tr style=\"text-align: right;\">\n",
              "      <th></th>\n",
              "      <th>PassengerId</th>\n",
              "      <th>Survived</th>\n",
              "      <th>Pclass</th>\n",
              "      <th>Name</th>\n",
              "      <th>Sex</th>\n",
              "      <th>Age</th>\n",
              "      <th>SibSp</th>\n",
              "      <th>Parch</th>\n",
              "      <th>Ticket</th>\n",
              "      <th>Fare</th>\n",
              "      <th>Cabin</th>\n",
              "      <th>Embarked</th>\n",
              "    </tr>\n",
              "  </thead>\n",
              "  <tbody>\n",
              "    <tr>\n",
              "      <th>12</th>\n",
              "      <td>904</td>\n",
              "      <td>1</td>\n",
              "      <td>1</td>\n",
              "      <td>Snyder, Mrs. John Pillsbury (Nelle Stevenson)</td>\n",
              "      <td>female</td>\n",
              "      <td>23.0</td>\n",
              "      <td>1</td>\n",
              "      <td>0</td>\n",
              "      <td>21228</td>\n",
              "      <td>82.2667</td>\n",
              "      <td>B45</td>\n",
              "      <td>S</td>\n",
              "    </tr>\n",
              "    <tr>\n",
              "      <th>14</th>\n",
              "      <td>906</td>\n",
              "      <td>1</td>\n",
              "      <td>1</td>\n",
              "      <td>Chaffee, Mrs. Herbert Fuller (Carrie Constance...</td>\n",
              "      <td>female</td>\n",
              "      <td>47.0</td>\n",
              "      <td>1</td>\n",
              "      <td>0</td>\n",
              "      <td>W.E.P. 5734</td>\n",
              "      <td>61.1750</td>\n",
              "      <td>E31</td>\n",
              "      <td>S</td>\n",
              "    </tr>\n",
              "    <tr>\n",
              "      <th>24</th>\n",
              "      <td>916</td>\n",
              "      <td>1</td>\n",
              "      <td>1</td>\n",
              "      <td>Ryerson, Mrs. Arthur Larned (Emily Maria Borie)</td>\n",
              "      <td>female</td>\n",
              "      <td>48.0</td>\n",
              "      <td>1</td>\n",
              "      <td>3</td>\n",
              "      <td>PC 17608</td>\n",
              "      <td>262.3750</td>\n",
              "      <td>B57 B59 B63 B66</td>\n",
              "      <td>C</td>\n",
              "    </tr>\n",
              "    <tr>\n",
              "      <th>26</th>\n",
              "      <td>918</td>\n",
              "      <td>1</td>\n",
              "      <td>1</td>\n",
              "      <td>Ostby, Miss. Helene Ragnhild</td>\n",
              "      <td>female</td>\n",
              "      <td>22.0</td>\n",
              "      <td>0</td>\n",
              "      <td>1</td>\n",
              "      <td>113509</td>\n",
              "      <td>61.9792</td>\n",
              "      <td>B36</td>\n",
              "      <td>C</td>\n",
              "    </tr>\n",
              "    <tr>\n",
              "      <th>28</th>\n",
              "      <td>920</td>\n",
              "      <td>0</td>\n",
              "      <td>1</td>\n",
              "      <td>Brady, Mr. John Bertram</td>\n",
              "      <td>male</td>\n",
              "      <td>41.0</td>\n",
              "      <td>0</td>\n",
              "      <td>0</td>\n",
              "      <td>113054</td>\n",
              "      <td>30.5000</td>\n",
              "      <td>A21</td>\n",
              "      <td>S</td>\n",
              "    </tr>\n",
              "    <tr>\n",
              "      <th>...</th>\n",
              "      <td>...</td>\n",
              "      <td>...</td>\n",
              "      <td>...</td>\n",
              "      <td>...</td>\n",
              "      <td>...</td>\n",
              "      <td>...</td>\n",
              "      <td>...</td>\n",
              "      <td>...</td>\n",
              "      <td>...</td>\n",
              "      <td>...</td>\n",
              "      <td>...</td>\n",
              "      <td>...</td>\n",
              "    </tr>\n",
              "    <tr>\n",
              "      <th>404</th>\n",
              "      <td>1296</td>\n",
              "      <td>0</td>\n",
              "      <td>1</td>\n",
              "      <td>Frauenthal, Mr. Isaac Gerald</td>\n",
              "      <td>male</td>\n",
              "      <td>43.0</td>\n",
              "      <td>1</td>\n",
              "      <td>0</td>\n",
              "      <td>17765</td>\n",
              "      <td>27.7208</td>\n",
              "      <td>D40</td>\n",
              "      <td>C</td>\n",
              "    </tr>\n",
              "    <tr>\n",
              "      <th>405</th>\n",
              "      <td>1297</td>\n",
              "      <td>0</td>\n",
              "      <td>2</td>\n",
              "      <td>Nourney, Mr. Alfred (Baron von Drachstedt\")\"</td>\n",
              "      <td>male</td>\n",
              "      <td>20.0</td>\n",
              "      <td>0</td>\n",
              "      <td>0</td>\n",
              "      <td>SC/PARIS 2166</td>\n",
              "      <td>13.8625</td>\n",
              "      <td>D38</td>\n",
              "      <td>C</td>\n",
              "    </tr>\n",
              "    <tr>\n",
              "      <th>407</th>\n",
              "      <td>1299</td>\n",
              "      <td>0</td>\n",
              "      <td>1</td>\n",
              "      <td>Widener, Mr. George Dunton</td>\n",
              "      <td>male</td>\n",
              "      <td>50.0</td>\n",
              "      <td>1</td>\n",
              "      <td>1</td>\n",
              "      <td>113503</td>\n",
              "      <td>211.5000</td>\n",
              "      <td>C80</td>\n",
              "      <td>C</td>\n",
              "    </tr>\n",
              "    <tr>\n",
              "      <th>411</th>\n",
              "      <td>1303</td>\n",
              "      <td>1</td>\n",
              "      <td>1</td>\n",
              "      <td>Minahan, Mrs. William Edward (Lillian E Thorpe)</td>\n",
              "      <td>female</td>\n",
              "      <td>37.0</td>\n",
              "      <td>1</td>\n",
              "      <td>0</td>\n",
              "      <td>19928</td>\n",
              "      <td>90.0000</td>\n",
              "      <td>C78</td>\n",
              "      <td>Q</td>\n",
              "    </tr>\n",
              "    <tr>\n",
              "      <th>414</th>\n",
              "      <td>1306</td>\n",
              "      <td>1</td>\n",
              "      <td>1</td>\n",
              "      <td>Oliva y Ocana, Dona. Fermina</td>\n",
              "      <td>female</td>\n",
              "      <td>39.0</td>\n",
              "      <td>0</td>\n",
              "      <td>0</td>\n",
              "      <td>PC 17758</td>\n",
              "      <td>108.9000</td>\n",
              "      <td>C105</td>\n",
              "      <td>C</td>\n",
              "    </tr>\n",
              "  </tbody>\n",
              "</table>\n",
              "<p>87 rows × 12 columns</p>\n",
              "</div>\n",
              "      <button class=\"colab-df-convert\" onclick=\"convertToInteractive('df-fea5bb37-fdb4-456f-bb7e-fde655210a34')\"\n",
              "              title=\"Convert this dataframe to an interactive table.\"\n",
              "              style=\"display:none;\">\n",
              "        \n",
              "  <svg xmlns=\"http://www.w3.org/2000/svg\" height=\"24px\"viewBox=\"0 0 24 24\"\n",
              "       width=\"24px\">\n",
              "    <path d=\"M0 0h24v24H0V0z\" fill=\"none\"/>\n",
              "    <path d=\"M18.56 5.44l.94 2.06.94-2.06 2.06-.94-2.06-.94-.94-2.06-.94 2.06-2.06.94zm-11 1L8.5 8.5l.94-2.06 2.06-.94-2.06-.94L8.5 2.5l-.94 2.06-2.06.94zm10 10l.94 2.06.94-2.06 2.06-.94-2.06-.94-.94-2.06-.94 2.06-2.06.94z\"/><path d=\"M17.41 7.96l-1.37-1.37c-.4-.4-.92-.59-1.43-.59-.52 0-1.04.2-1.43.59L10.3 9.45l-7.72 7.72c-.78.78-.78 2.05 0 2.83L4 21.41c.39.39.9.59 1.41.59.51 0 1.02-.2 1.41-.59l7.78-7.78 2.81-2.81c.8-.78.8-2.07 0-2.86zM5.41 20L4 18.59l7.72-7.72 1.47 1.35L5.41 20z\"/>\n",
              "  </svg>\n",
              "      </button>\n",
              "      \n",
              "  <style>\n",
              "    .colab-df-container {\n",
              "      display:flex;\n",
              "      flex-wrap:wrap;\n",
              "      gap: 12px;\n",
              "    }\n",
              "\n",
              "    .colab-df-convert {\n",
              "      background-color: #E8F0FE;\n",
              "      border: none;\n",
              "      border-radius: 50%;\n",
              "      cursor: pointer;\n",
              "      display: none;\n",
              "      fill: #1967D2;\n",
              "      height: 32px;\n",
              "      padding: 0 0 0 0;\n",
              "      width: 32px;\n",
              "    }\n",
              "\n",
              "    .colab-df-convert:hover {\n",
              "      background-color: #E2EBFA;\n",
              "      box-shadow: 0px 1px 2px rgba(60, 64, 67, 0.3), 0px 1px 3px 1px rgba(60, 64, 67, 0.15);\n",
              "      fill: #174EA6;\n",
              "    }\n",
              "\n",
              "    [theme=dark] .colab-df-convert {\n",
              "      background-color: #3B4455;\n",
              "      fill: #D2E3FC;\n",
              "    }\n",
              "\n",
              "    [theme=dark] .colab-df-convert:hover {\n",
              "      background-color: #434B5C;\n",
              "      box-shadow: 0px 1px 3px 1px rgba(0, 0, 0, 0.15);\n",
              "      filter: drop-shadow(0px 1px 2px rgba(0, 0, 0, 0.3));\n",
              "      fill: #FFFFFF;\n",
              "    }\n",
              "  </style>\n",
              "\n",
              "      <script>\n",
              "        const buttonEl =\n",
              "          document.querySelector('#df-fea5bb37-fdb4-456f-bb7e-fde655210a34 button.colab-df-convert');\n",
              "        buttonEl.style.display =\n",
              "          google.colab.kernel.accessAllowed ? 'block' : 'none';\n",
              "\n",
              "        async function convertToInteractive(key) {\n",
              "          const element = document.querySelector('#df-fea5bb37-fdb4-456f-bb7e-fde655210a34');\n",
              "          const dataTable =\n",
              "            await google.colab.kernel.invokeFunction('convertToInteractive',\n",
              "                                                     [key], {});\n",
              "          if (!dataTable) return;\n",
              "\n",
              "          const docLinkHtml = 'Like what you see? Visit the ' +\n",
              "            '<a target=\"_blank\" href=https://colab.research.google.com/notebooks/data_table.ipynb>data table notebook</a>'\n",
              "            + ' to learn more about interactive tables.';\n",
              "          element.innerHTML = '';\n",
              "          dataTable['output_type'] = 'display_data';\n",
              "          await google.colab.output.renderOutput(dataTable, element);\n",
              "          const docLink = document.createElement('div');\n",
              "          docLink.innerHTML = docLinkHtml;\n",
              "          element.appendChild(docLink);\n",
              "        }\n",
              "      </script>\n",
              "    </div>\n",
              "  </div>\n",
              "  "
            ]
          },
          "metadata": {},
          "execution_count": 43
        }
      ]
    },
    {
      "cell_type": "code",
      "source": [
        "X = crocks[['Age', 'Fare', 'Pclass']]\n",
        "y = crocks['Survived']"
      ],
      "metadata": {
        "id": "6XkzItSiWxCL"
      },
      "execution_count": null,
      "outputs": []
    },
    {
      "cell_type": "markdown",
      "source": [
        "Split the data into training and testing sets"
      ],
      "metadata": {
        "id": "WUJPej5LYZgQ"
      }
    },
    {
      "cell_type": "code",
      "source": [
        "from sklearn.model_selection import train_test_split\n",
        "X_train, X_test, y_train, y_test = train_test_split(X, y, test_size=0.2)\n"
      ],
      "metadata": {
        "id": "pyI7hlKyXekm"
      },
      "execution_count": null,
      "outputs": []
    },
    {
      "cell_type": "markdown",
      "source": [
        "Creationn and fitting of the model"
      ],
      "metadata": {
        "id": "Fpfzixx5YkuE"
      }
    },
    {
      "cell_type": "code",
      "source": [
        "model = LinearRegression()\n",
        "model.fit(X_train, y_train)\n"
      ],
      "metadata": {
        "colab": {
          "base_uri": "https://localhost:8080/",
          "height": 75
        },
        "id": "nmGZmCPRYhuG",
        "outputId": "f840c81a-5b23-4a3b-b5b5-db092992f0a1"
      },
      "execution_count": null,
      "outputs": [
        {
          "output_type": "execute_result",
          "data": {
            "text/plain": [
              "LinearRegression()"
            ],
            "text/html": [
              "<style>#sk-container-id-3 {color: black;background-color: white;}#sk-container-id-3 pre{padding: 0;}#sk-container-id-3 div.sk-toggleable {background-color: white;}#sk-container-id-3 label.sk-toggleable__label {cursor: pointer;display: block;width: 100%;margin-bottom: 0;padding: 0.3em;box-sizing: border-box;text-align: center;}#sk-container-id-3 label.sk-toggleable__label-arrow:before {content: \"▸\";float: left;margin-right: 0.25em;color: #696969;}#sk-container-id-3 label.sk-toggleable__label-arrow:hover:before {color: black;}#sk-container-id-3 div.sk-estimator:hover label.sk-toggleable__label-arrow:before {color: black;}#sk-container-id-3 div.sk-toggleable__content {max-height: 0;max-width: 0;overflow: hidden;text-align: left;background-color: #f0f8ff;}#sk-container-id-3 div.sk-toggleable__content pre {margin: 0.2em;color: black;border-radius: 0.25em;background-color: #f0f8ff;}#sk-container-id-3 input.sk-toggleable__control:checked~div.sk-toggleable__content {max-height: 200px;max-width: 100%;overflow: auto;}#sk-container-id-3 input.sk-toggleable__control:checked~label.sk-toggleable__label-arrow:before {content: \"▾\";}#sk-container-id-3 div.sk-estimator input.sk-toggleable__control:checked~label.sk-toggleable__label {background-color: #d4ebff;}#sk-container-id-3 div.sk-label input.sk-toggleable__control:checked~label.sk-toggleable__label {background-color: #d4ebff;}#sk-container-id-3 input.sk-hidden--visually {border: 0;clip: rect(1px 1px 1px 1px);clip: rect(1px, 1px, 1px, 1px);height: 1px;margin: -1px;overflow: hidden;padding: 0;position: absolute;width: 1px;}#sk-container-id-3 div.sk-estimator {font-family: monospace;background-color: #f0f8ff;border: 1px dotted black;border-radius: 0.25em;box-sizing: border-box;margin-bottom: 0.5em;}#sk-container-id-3 div.sk-estimator:hover {background-color: #d4ebff;}#sk-container-id-3 div.sk-parallel-item::after {content: \"\";width: 100%;border-bottom: 1px solid gray;flex-grow: 1;}#sk-container-id-3 div.sk-label:hover label.sk-toggleable__label {background-color: #d4ebff;}#sk-container-id-3 div.sk-serial::before {content: \"\";position: absolute;border-left: 1px solid gray;box-sizing: border-box;top: 0;bottom: 0;left: 50%;z-index: 0;}#sk-container-id-3 div.sk-serial {display: flex;flex-direction: column;align-items: center;background-color: white;padding-right: 0.2em;padding-left: 0.2em;position: relative;}#sk-container-id-3 div.sk-item {position: relative;z-index: 1;}#sk-container-id-3 div.sk-parallel {display: flex;align-items: stretch;justify-content: center;background-color: white;position: relative;}#sk-container-id-3 div.sk-item::before, #sk-container-id-3 div.sk-parallel-item::before {content: \"\";position: absolute;border-left: 1px solid gray;box-sizing: border-box;top: 0;bottom: 0;left: 50%;z-index: -1;}#sk-container-id-3 div.sk-parallel-item {display: flex;flex-direction: column;z-index: 1;position: relative;background-color: white;}#sk-container-id-3 div.sk-parallel-item:first-child::after {align-self: flex-end;width: 50%;}#sk-container-id-3 div.sk-parallel-item:last-child::after {align-self: flex-start;width: 50%;}#sk-container-id-3 div.sk-parallel-item:only-child::after {width: 0;}#sk-container-id-3 div.sk-dashed-wrapped {border: 1px dashed gray;margin: 0 0.4em 0.5em 0.4em;box-sizing: border-box;padding-bottom: 0.4em;background-color: white;}#sk-container-id-3 div.sk-label label {font-family: monospace;font-weight: bold;display: inline-block;line-height: 1.2em;}#sk-container-id-3 div.sk-label-container {text-align: center;}#sk-container-id-3 div.sk-container {/* jupyter's `normalize.less` sets `[hidden] { display: none; }` but bootstrap.min.css set `[hidden] { display: none !important; }` so we also need the `!important` here to be able to override the default hidden behavior on the sphinx rendered scikit-learn.org. See: https://github.com/scikit-learn/scikit-learn/issues/21755 */display: inline-block !important;position: relative;}#sk-container-id-3 div.sk-text-repr-fallback {display: none;}</style><div id=\"sk-container-id-3\" class=\"sk-top-container\"><div class=\"sk-text-repr-fallback\"><pre>LinearRegression()</pre><b>In a Jupyter environment, please rerun this cell to show the HTML representation or trust the notebook. <br />On GitHub, the HTML representation is unable to render, please try loading this page with nbviewer.org.</b></div><div class=\"sk-container\" hidden><div class=\"sk-item\"><div class=\"sk-estimator sk-toggleable\"><input class=\"sk-toggleable__control sk-hidden--visually\" id=\"sk-estimator-id-3\" type=\"checkbox\" checked><label for=\"sk-estimator-id-3\" class=\"sk-toggleable__label sk-toggleable__label-arrow\">LinearRegression</label><div class=\"sk-toggleable__content\"><pre>LinearRegression()</pre></div></div></div></div></div>"
            ]
          },
          "metadata": {},
          "execution_count": 46
        }
      ]
    },
    {
      "cell_type": "code",
      "source": [
        "print(model.coef_)\n"
      ],
      "metadata": {
        "colab": {
          "base_uri": "https://localhost:8080/"
        },
        "id": "Joq_XRjOchLe",
        "outputId": "b9f6c6e0-5d79-43c4-b924-722e9fcef2ef"
      },
      "execution_count": null,
      "outputs": [
        {
          "output_type": "stream",
          "name": "stdout",
          "text": [
            "[0.00416507 0.00124002 0.0581541 ]\n"
          ]
        }
      ]
    },
    {
      "cell_type": "code",
      "source": [
        "y_pred = model.predict(X_test)\n"
      ],
      "metadata": {
        "id": "BHTrz-F4ZVta"
      },
      "execution_count": null,
      "outputs": []
    },
    {
      "cell_type": "code",
      "source": [
        "from sklearn.metrics import mean_squared_error\n",
        "mse = mean_squared_error(y_test, y_pred)\n",
        "\n",
        "print(\"Mean Squared Error:\", mse)\n"
      ],
      "metadata": {
        "colab": {
          "base_uri": "https://localhost:8080/"
        },
        "id": "QEQWde71bMmh",
        "outputId": "c2f05aa5-7a87-4537-80ba-3b964559699e"
      },
      "execution_count": null,
      "outputs": [
        {
          "output_type": "stream",
          "name": "stdout",
          "text": [
            "Mean Squared Error: 0.3048345675152776\n"
          ]
        }
      ]
    },
    {
      "cell_type": "markdown",
      "source": [
        "Plotting graph"
      ],
      "metadata": {
        "id": "FVud2swZcs9X"
      }
    },
    {
      "cell_type": "code",
      "source": [
        "import matplotlib.pyplot as plt\n",
        "import numpy as np\n",
        "def plotGraph(y_test,y_pred,regressorName):\n",
        "    if max(y_test) >= max(y_pred):\n",
        "        my_range = int(max(y_test))\n",
        "    else:\n",
        "        my_range = int(max(y_pred))\n",
        "    plt.scatter(range(len(y_test)), y_test, color='blue')\n",
        "    plt.scatter(range(len(y_pred)), y_pred, color='red')\n",
        "    plt.title(regressorName)\n",
        "    plt.show()\n",
        "    return\n",
        "\n",
        "y_t = y_test\n",
        "y_p = y_pred\n",
        "\n",
        "plotGraph(y_t, y_p, \"test\")"
      ],
      "metadata": {
        "colab": {
          "base_uri": "https://localhost:8080/",
          "height": 281
        },
        "id": "AX9pzc00bRJS",
        "outputId": "05b036d0-866f-43a5-a8a7-077985e9473c"
      },
      "execution_count": null,
      "outputs": [
        {
          "output_type": "display_data",
          "data": {
            "text/plain": [
              "<Figure size 432x288 with 1 Axes>"
            ],
            "image/png": "[encoded data removed]"
          },
          "metadata": {
            "needs_background": "light"
          }
        }
      ]
    },
    {
      "cell_type": "markdown",
      "source": [
        "Skewness"
      ],
      "metadata": {
        "id": "J6w1HImIeROK"
      }
    },
    {
      "cell_type": "code",
      "source": [
        "from scipy.stats import skew\n",
        "ytest_skew = skew(y_test)\n",
        "ypred_skew = skew(y_pred)\n",
        "\n",
        "print(\"Skewness of ytest:\", ytest_skew)\n",
        "print(\"Skewness of ypred:\", ypred_skew)\n"
      ],
      "metadata": {
        "colab": {
          "base_uri": "https://localhost:8080/"
        },
        "id": "WDuPoyKsdBYy",
        "outputId": "5656b157-27af-4770-f320-7f6a6bf19ef2"
      },
      "execution_count": null,
      "outputs": [
        {
          "output_type": "stream",
          "name": "stdout",
          "text": [
            "Skewness of ytest: -0.45584230583855206\n",
            "Skewness of ypred: 1.5222497930587613\n"
          ]
        }
      ]
    },
    {
      "cell_type": "code",
      "source": [],
      "metadata": {
        "id": "k3OWjJbznwsx"
      },
      "execution_count": null,
      "outputs": []
    }
  ]
}